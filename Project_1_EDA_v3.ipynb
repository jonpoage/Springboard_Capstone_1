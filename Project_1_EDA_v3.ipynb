{
 "cells": [
  {
   "cell_type": "markdown",
   "metadata": {},
   "source": [
    "# Capstone Project 1: EDA"
   ]
  },
  {
   "cell_type": "markdown",
   "metadata": {},
   "source": [
    "### Note on Input Data Files\n",
    "The pre-processed data file is too large to store on github.  The file is created, stored, and loaded locally on my machine during my analysis.  The flight and weather data files are also stored and loaded locally on my machine.\n",
    "\n",
    "Anyone else using this code should download copies of the data files from my google drive.  A backup copy of the pre-processed data file (version uploaded on 1/21/2019), as well as copies of the input weather and flight data files, can be downloaded here: https://drive.google.com/open?id=1PkbeFC4E2Vea67YqzfooeZacI9eKd9-P  \n",
    "Note that, after downloading the data files, the filepaths should be updated in the code below."
   ]
  },
  {
   "cell_type": "code",
   "execution_count": 1,
   "metadata": {
    "collapsed": true
   },
   "outputs": [],
   "source": [
    "# import all packages\n",
    "import numpy as np\n",
    "import pandas as pd\n",
    "import matplotlib.pyplot as plt\n",
    "import seaborn as sns\n",
    "import datetime as dt\n",
    "import pytz\n",
    "import collections\n",
    "from scipy import stats\n",
    "from glob import glob"
   ]
  },
  {
   "cell_type": "code",
   "execution_count": 2,
   "metadata": {
    "collapsed": true
   },
   "outputs": [],
   "source": [
    "# configure DataFrame display settings\n",
    "pd.options.display.max_columns = None"
   ]
  },
  {
   "cell_type": "code",
   "execution_count": 3,
   "metadata": {
    "collapsed": true
   },
   "outputs": [],
   "source": [
    "# configure seaborn settings\n",
    "sns.set(style='whitegrid', font_scale=1.4)"
   ]
  },
  {
   "cell_type": "code",
   "execution_count": 4,
   "metadata": {
    "collapsed": true
   },
   "outputs": [],
   "source": [
    "# seed the pseudorandom number generator\n",
    "np.random.seed(42)"
   ]
  },
  {
   "cell_type": "markdown",
   "metadata": {},
   "source": [
    "## Load Weather Data"
   ]
  },
  {
   "cell_type": "code",
   "execution_count": 5,
   "metadata": {
    "collapsed": true
   },
   "outputs": [],
   "source": [
    "# set the pathname to the data files\n",
    "dir_weather_data = 'C:/Users/Jonathon.Poage/Desktop/Springboard/Capstone_Documentation/Project_1/Data_Files/weather_data/'\n",
    "\n",
    "# make the list of filenames\n",
    "filepaths_weather_data = glob(dir_weather_data + '*.txt')"
   ]
  },
  {
   "cell_type": "code",
   "execution_count": 6,
   "metadata": {
    "collapsed": true
   },
   "outputs": [],
   "source": [
    "# list of airport codes: top 10 busiest airports\n",
    "airport_codes = ['ATL', 'LAX', 'ORD', 'DFW', 'JFK',\n",
    "                 'DEN', 'SFO', 'LAS', 'SEA', 'MIA']\n",
    "\n",
    "# dict of timezones for airports\n",
    "airport_tzs = {'ATL':'US/Eastern',\n",
    "               'LAX':'US/Pacific',\n",
    "               'ORD':'US/Central',\n",
    "               'DFW':'US/Central',\n",
    "               'JFK':'US/Eastern',\n",
    "               'DEN':'US/Mountain',\n",
    "               'SFO':'US/Pacific',\n",
    "               'LAS':'US/Pacific',\n",
    "               'SEA':'US/Pacific',\n",
    "               'MIA':'US/Eastern'}"
   ]
  },
  {
   "cell_type": "code",
   "execution_count": 7,
   "metadata": {
    "collapsed": true
   },
   "outputs": [],
   "source": [
    "# identify the timestamp columns\n",
    "ts_cols_weather = ['valid']\n",
    "\n",
    "# set dtype for each column\n",
    "dict_dtype_in_w = {'station':'category',\n",
    "                 'skyc1':'category',\n",
    "                 'skyc2':'category',\n",
    "                 'skyc3':'category',\n",
    "                 'skyc4':'category',\n",
    "                 'skyl1':np.float64,\n",
    "                 'skyl2':np.float64,\n",
    "                 'skyl3':np.float64,\n",
    "                 'skyl4':np.float64,\n",
    "                 'wxcodes':'category'}"
   ]
  },
  {
   "cell_type": "code",
   "execution_count": 8,
   "metadata": {},
   "outputs": [
    {
     "name": "stdout",
     "output_type": "stream",
     "text": [
      "2019-02-21 09:49:15.780728\n",
      "2019-02-21 09:49:17.710838\n"
     ]
    }
   ],
   "source": [
    "# print the start time for the cell execution\n",
    "print(pd.Timestamp.now())\n",
    "\n",
    "# read the data into a list of daframes, and preprocess the dataframes\n",
    "dfs_weather_data = []\n",
    "for fw in filepaths_weather_data:\n",
    "    dfw = pd.read_csv(fw, \n",
    "                      dtype=dict_dtype_in_w,\n",
    "                      skipinitialspace=True,\n",
    "                      parse_dates=ts_cols_weather,\n",
    "                      na_values='M')\n",
    "    \n",
    "    # filter the dataframe\n",
    "    dfw = dfw[dfw.valid.notnull()\n",
    "            & dfw.station.isin(airport_codes)]\n",
    "    \n",
    "    # filter out an anomalous data point\n",
    "    dfw = dfw[~((dfw.station == 'DEN')\n",
    "                & (dfw.valid == pd.to_datetime('2017-05-11 14:53:00')))]\n",
    "    \n",
    "    # convert wind directions of 360 to 0\n",
    "    dfw.loc[(dfw.drct == 360), 'drct'] = 0\n",
    "    \n",
    "    # add a column with timezone info\n",
    "    dfw['station_timezone'] = dfw.station.map(airport_tzs)\n",
    "    \n",
    "    # append the list of dataframes\n",
    "    dfs_weather_data.append(dfw)\n",
    "    \n",
    "# concatenate the pre-processed dataframes\n",
    "df_w = pd.concat(dfs_weather_data)\n",
    "\n",
    "# print the end time for the cell execution\n",
    "print(pd.Timestamp.now())"
   ]
  },
  {
   "cell_type": "code",
   "execution_count": 9,
   "metadata": {
    "collapsed": true
   },
   "outputs": [],
   "source": [
    "# drop unecessary columns\n",
    "df_w.drop(['metar'],\n",
    "          axis='columns',\n",
    "          inplace=True)\n",
    "\n",
    "# reset the index\n",
    "df_w.reset_index(drop=True, inplace=True)"
   ]
  },
  {
   "cell_type": "markdown",
   "metadata": {},
   "source": [
    "## Resample Weather Data"
   ]
  },
  {
   "cell_type": "code",
   "execution_count": 10,
   "metadata": {
    "collapsed": true
   },
   "outputs": [],
   "source": [
    "# set the resample frequency\n",
    "FREQ = '7H'\n",
    "\n",
    "# resample the weather data\n",
    "df_rs = df_w.sort_values(['station','valid']).groupby(['station', pd.Grouper(key='valid', freq=FREQ)]).head(1)\n",
    "\n",
    "# filter out times that are too close together\n",
    "df_rs = df_rs[df_rs.valid.diff() >= pd.to_timedelta(FREQ)]\n",
    "\n",
    "# reset the index\n",
    "df_rs.reset_index(drop=True, inplace=True)"
   ]
  },
  {
   "cell_type": "markdown",
   "metadata": {},
   "source": [
    "### $\\chi^2$ Test of Independence -- Contingency Table"
   ]
  },
  {
   "cell_type": "code",
   "execution_count": 11,
   "metadata": {
    "collapsed": true
   },
   "outputs": [],
   "source": [
    "# dict to map weather codes\n",
    "dict_wconds = {'-RA':'RAIN',\n",
    "               'RA':'RAIN',\n",
    "               '+RA':'RAIN',\n",
    "               '-DZ':'RAIN',\n",
    "               'DZ':'RAIN',\n",
    "               '+DZ':'RAIN',\n",
    "               'FG':'FOG',\n",
    "               'BR':'FOG',\n",
    "               'MIFG':'FOG',\n",
    "               '-SN':'SNOW/ICE',\n",
    "               'SN':'SNOW/ICE',\n",
    "               '+SN':'SNOW/ICE',\n",
    "               'GR':'SNOW/ICE',\n",
    "               '-GS':'SNOW/ICE',\n",
    "               'GS':'SNOW/ICE',\n",
    "               '+GS':'SNOW/ICE',\n",
    "               '-PL':'SNOW/ICE',\n",
    "               'PL':'SNOW/ICE',\n",
    "               '+PL':'SNOW/ICE',\n",
    "               '-SG':'SNOW/ICE',\n",
    "               'SG':'SNOW/ICE',\n",
    "               '+SG':'SNOW/ICE',\n",
    "               'IC':'SNOW/ICE',\n",
    "#               '-TS':'THUNDERSTORM',\n",
    "#               'TS':'THUNDERSTORM',\n",
    "#               '+TS':'THUNDERSTORM',\n",
    "               np.nan:'CLEAR'}\n",
    "\n",
    "# map the weather codes\n",
    "df_rs['wcond'] = df_rs.wxcodes.map(dict_wconds).fillna('OTHER')"
   ]
  },
  {
   "cell_type": "code",
   "execution_count": 12,
   "metadata": {
    "collapsed": true
   },
   "outputs": [],
   "source": [
    "# create a contingency table\n",
    "ct_wconds = pd.pivot_table(df_rs,\n",
    "                           values='valid',\n",
    "                           index='station',\n",
    "                           columns='wcond',\n",
    "                           aggfunc='count',\n",
    "                           fill_value=0)\n",
    "\n",
    "# reorder the columns\n",
    "ct_wconds = ct_wconds[['FOG', 'RAIN', 'SNOW/ICE', 'CLEAR', 'OTHER']]"
   ]
  },
  {
   "cell_type": "code",
   "execution_count": 13,
   "metadata": {},
   "outputs": [
    {
     "data": {
      "text/html": [
       "<div>\n",
       "<table border=\"1\" class=\"dataframe\">\n",
       "  <thead>\n",
       "    <tr style=\"text-align: right;\">\n",
       "      <th>wcond</th>\n",
       "      <th>FOG</th>\n",
       "      <th>RAIN</th>\n",
       "      <th>SNOW/ICE</th>\n",
       "      <th>CLEAR</th>\n",
       "      <th>OTHER</th>\n",
       "    </tr>\n",
       "    <tr>\n",
       "      <th>station</th>\n",
       "      <th></th>\n",
       "      <th></th>\n",
       "      <th></th>\n",
       "      <th></th>\n",
       "      <th></th>\n",
       "    </tr>\n",
       "  </thead>\n",
       "  <tbody>\n",
       "    <tr>\n",
       "      <th>ATL</th>\n",
       "      <td>30</td>\n",
       "      <td>50</td>\n",
       "      <td>1</td>\n",
       "      <td>2144</td>\n",
       "      <td>58</td>\n",
       "    </tr>\n",
       "    <tr>\n",
       "      <th>DEN</th>\n",
       "      <td>19</td>\n",
       "      <td>13</td>\n",
       "      <td>18</td>\n",
       "      <td>2205</td>\n",
       "      <td>43</td>\n",
       "    </tr>\n",
       "    <tr>\n",
       "      <th>DFW</th>\n",
       "      <td>15</td>\n",
       "      <td>33</td>\n",
       "      <td>0</td>\n",
       "      <td>2168</td>\n",
       "      <td>35</td>\n",
       "    </tr>\n",
       "    <tr>\n",
       "      <th>JFK</th>\n",
       "      <td>35</td>\n",
       "      <td>69</td>\n",
       "      <td>17</td>\n",
       "      <td>2122</td>\n",
       "      <td>82</td>\n",
       "    </tr>\n",
       "    <tr>\n",
       "      <th>LAS</th>\n",
       "      <td>0</td>\n",
       "      <td>19</td>\n",
       "      <td>0</td>\n",
       "      <td>2406</td>\n",
       "      <td>17</td>\n",
       "    </tr>\n",
       "    <tr>\n",
       "      <th>LAX</th>\n",
       "      <td>102</td>\n",
       "      <td>17</td>\n",
       "      <td>0</td>\n",
       "      <td>2062</td>\n",
       "      <td>93</td>\n",
       "    </tr>\n",
       "    <tr>\n",
       "      <th>MIA</th>\n",
       "      <td>13</td>\n",
       "      <td>49</td>\n",
       "      <td>0</td>\n",
       "      <td>2205</td>\n",
       "      <td>25</td>\n",
       "    </tr>\n",
       "    <tr>\n",
       "      <th>ORD</th>\n",
       "      <td>65</td>\n",
       "      <td>52</td>\n",
       "      <td>30</td>\n",
       "      <td>2024</td>\n",
       "      <td>48</td>\n",
       "    </tr>\n",
       "    <tr>\n",
       "      <th>SEA</th>\n",
       "      <td>16</td>\n",
       "      <td>170</td>\n",
       "      <td>1</td>\n",
       "      <td>1923</td>\n",
       "      <td>88</td>\n",
       "    </tr>\n",
       "    <tr>\n",
       "      <th>SFO</th>\n",
       "      <td>12</td>\n",
       "      <td>57</td>\n",
       "      <td>0</td>\n",
       "      <td>2235</td>\n",
       "      <td>27</td>\n",
       "    </tr>\n",
       "  </tbody>\n",
       "</table>\n",
       "</div>"
      ],
      "text/plain": [
       "wcond    FOG  RAIN  SNOW/ICE  CLEAR  OTHER\n",
       "station                                   \n",
       "ATL       30    50         1   2144     58\n",
       "DEN       19    13        18   2205     43\n",
       "DFW       15    33         0   2168     35\n",
       "JFK       35    69        17   2122     82\n",
       "LAS        0    19         0   2406     17\n",
       "LAX      102    17         0   2062     93\n",
       "MIA       13    49         0   2205     25\n",
       "ORD       65    52        30   2024     48\n",
       "SEA       16   170         1   1923     88\n",
       "SFO       12    57         0   2235     27"
      ]
     },
     "execution_count": 13,
     "metadata": {},
     "output_type": "execute_result"
    }
   ],
   "source": [
    "# print the contingency table\n",
    "ct_wconds"
   ]
  },
  {
   "cell_type": "code",
   "execution_count": 14,
   "metadata": {},
   "outputs": [
    {
     "name": "stdout",
     "output_type": "stream",
     "text": [
      "chi-square = 983.523844652\n",
      "p-value = 4.51358761571e-183\n"
     ]
    }
   ],
   "source": [
    "# perform the chi-square test of independence\n",
    "chi2, p, dof, exp = stats.chi2_contingency(ct_wconds)\n",
    "\n",
    "# print the results\n",
    "print('chi-square =', chi2)\n",
    "print('p-value =', p)"
   ]
  },
  {
   "cell_type": "code",
   "execution_count": 15,
   "metadata": {},
   "outputs": [
    {
     "name": "stdout",
     "output_type": "stream",
     "text": [
      "Minimum expected count = 6.42718107624\n"
     ]
    }
   ],
   "source": [
    "# print the minimum expected count\n",
    "print('Minimum expected count =', exp.min())"
   ]
  },
  {
   "cell_type": "markdown",
   "metadata": {},
   "source": [
    "### Confidence Intervals"
   ]
  },
  {
   "cell_type": "code",
   "execution_count": 16,
   "metadata": {
    "collapsed": true
   },
   "outputs": [],
   "source": [
    "# function to get the Margin of Error of the mean\n",
    "def get_mem(sample, alpha=0.95, dof=1):\n",
    "    \"\"\" This function takes a series as input.\n",
    "    It also optionally takes a significance level\n",
    "    and degrees of freedom as input.\n",
    "    This function returns the margin of error\n",
    "    for the mean of the input series.\"\"\"\n",
    "    \n",
    "    # find the number of non-null values\n",
    "    sample_count = np.count_nonzero(~np.isnan(sample))\n",
    "    \n",
    "    # find the mean and standard error of the mean\n",
    "    mean = np.nanmean(sample)\n",
    "    sem = np.nanstd(sample, ddof=dof) / np.sqrt(sample_count)\n",
    "    \n",
    "    # get the confidence interval\n",
    "    cim = stats.norm.interval(alpha, loc=mean, scale=sem)\n",
    "    \n",
    "    # calculate and return the margin of error\n",
    "    mem = (cim[1] - cim[0]) / 2\n",
    "    return mem"
   ]
  },
  {
   "cell_type": "code",
   "execution_count": 17,
   "metadata": {
    "collapsed": true
   },
   "outputs": [],
   "source": [
    "# set the skyl1 to a sentinel value when skyc1 == CLR\n",
    "SKYL1_NAN = 42000  # sentinel value\n",
    "df_rs.loc[((df_rs.skyc1 == 'CLR') & (df_rs.skyl1.isnull())), 'skyl1'] = SKYL1_NAN"
   ]
  },
  {
   "cell_type": "code",
   "execution_count": 18,
   "metadata": {
    "collapsed": true
   },
   "outputs": [],
   "source": [
    "# get mean and SE of the mean for each station\n",
    "df_mem = df_rs[['sknt', 'vsby', 'skyl1']].groupby(df_rs.station).agg([np.nanmean, get_mem])"
   ]
  },
  {
   "cell_type": "code",
   "execution_count": 19,
   "metadata": {
    "collapsed": true
   },
   "outputs": [],
   "source": [
    "# dataframe for wind speed CI\n",
    "df_ws = df_mem['sknt']\n",
    "df_ws.columns = ['sample_mean','mem']\n",
    "df_ws = df_ws.sort_values('sample_mean').reset_index()"
   ]
  },
  {
   "cell_type": "code",
   "execution_count": 20,
   "metadata": {},
   "outputs": [
    {
     "data": {
      "image/png": "[encoded data removed]",
      "text/plain": [
       "<matplotlib.figure.Figure at 0xae4f208>"
      ]
     },
     "metadata": {},
     "output_type": "display_data"
    }
   ],
   "source": [
    "# plot the wind speed confidence intervals\n",
    "plt.errorbar(x=df_ws.sample_mean, y=df_ws.index, xerr=df_ws.mem, marker='.', linestyle='none')\n",
    "plt.yticks(df_ws.index, df_ws.station)\n",
    "plt.xlabel('Wind Speed (Knots)')\n",
    "plt.ylabel('Airport Code')\n",
    "plt.title('95 % Confidence Intervals for the Mean Wind Speed \\n by Airport')\n",
    "plt.show()"
   ]
  },
  {
   "cell_type": "code",
   "execution_count": 21,
   "metadata": {
    "collapsed": true
   },
   "outputs": [],
   "source": [
    "# dataframe for visibility CI\n",
    "df_v = df_mem['vsby']\n",
    "df_v.columns = ['sample_mean','mem']\n",
    "df_v = df_v.sort_values('sample_mean').reset_index()"
   ]
  },
  {
   "cell_type": "code",
   "execution_count": 22,
   "metadata": {},
   "outputs": [
    {
     "data": {
      "image/png": "[encoded data removed]",
      "text/plain": [
       "<matplotlib.figure.Figure at 0x9cd1cc0>"
      ]
     },
     "metadata": {},
     "output_type": "display_data"
    }
   ],
   "source": [
    "# plot the visibility confidence intervals\n",
    "plt.errorbar(x=df_v.sample_mean, y=df_v.index, xerr=df_v.mem, marker='.', linestyle='none')\n",
    "plt.yticks(df_v.index, df_v.station)\n",
    "plt.xlabel('Visibility (Miles)')\n",
    "plt.ylabel('Airport Code')\n",
    "plt.title('95 % Confidence Intervals for the Mean Visibility \\n by Airport')\n",
    "plt.show()"
   ]
  },
  {
   "cell_type": "code",
   "execution_count": 23,
   "metadata": {
    "collapsed": true
   },
   "outputs": [],
   "source": [
    "# dataframe for visibility CI\n",
    "df_sl = df_mem['skyl1']\n",
    "df_sl.columns = ['sample_mean','mem']\n",
    "df_sl = df_sl.sort_values('sample_mean').reset_index()"
   ]
  },
  {
   "cell_type": "code",
   "execution_count": 24,
   "metadata": {},
   "outputs": [
    {
     "data": {
      "image/png": "[encoded data removed]",
      "text/plain": [
       "<matplotlib.figure.Figure at 0x9b79630>"
      ]
     },
     "metadata": {},
     "output_type": "display_data"
    }
   ],
   "source": [
    "# plot the visibility confidence intervals\n",
    "plt.errorbar(x=df_sl.sample_mean, y=df_sl.index, xerr=df_sl.mem, marker='.', linestyle='none')\n",
    "plt.yticks(df_sl.index, df_sl.station)\n",
    "plt.xlabel('Sky Level 1 Altitude (Feet)')\n",
    "plt.ylabel('Airport Code')\n",
    "plt.title('95 % Confidence Intervals for the Sky Level 1 Altitude \\n by Airport')\n",
    "plt.show()"
   ]
  },
  {
   "cell_type": "markdown",
   "metadata": {},
   "source": [
    "## Correlations -- Delays and Weather Variables"
   ]
  },
  {
   "cell_type": "markdown",
   "metadata": {},
   "source": [
    "NOTE: The analysis in the sections below is preliminary.  The full analysis will be conducted more thoroughly in later stages of the project.  "
   ]
  },
  {
   "cell_type": "markdown",
   "metadata": {},
   "source": [
    "### Load the Pre-processed Data"
   ]
  },
  {
   "cell_type": "code",
   "execution_count": 25,
   "metadata": {
    "collapsed": true
   },
   "outputs": [],
   "source": [
    "# set the input directory\n",
    "dir_in = 'C:/Users/Jonathon.Poage/Desktop/Springboard/Capstone_Documentation/Project_1/Data_Files/preprocessed_data/'\n",
    "\n",
    "# set the input filepath\n",
    "filename_in = 'merged_flight_weather_data_preprocessed.csv'\n",
    "filepath_in = dir_in + filename_in"
   ]
  },
  {
   "cell_type": "code",
   "execution_count": 26,
   "metadata": {
    "collapsed": true
   },
   "outputs": [],
   "source": [
    "# columns to parse as dates\n",
    "ts_cols_in = ['crs_dep_ts',\n",
    "              'dep_ts',\n",
    "              'wheels_off_ts',\n",
    "              'valid']\n",
    "\n",
    "# set dtype for each column\n",
    "dict_dtype_in = {'QUARTER':np.int8,\n",
    "                 'OP_UNIQUE_CARRIER':'category',\n",
    "                 'OP_CARRIER_FL_NUM':np.int16,\n",
    "                 'ORIGIN':'category',\n",
    "                 'DEST':'category',\n",
    "                 'DEP_TIME_BLK':'category',\n",
    "                 'origin_timezone':'category',\n",
    "                 'station':'category',\n",
    "                 'skyc1':'category',\n",
    "                 'skyc2':'category',\n",
    "                 'skyc3':'category',\n",
    "                 'skyc4':'category',\n",
    "                 'skyl1':np.float64,\n",
    "                 'skyl2':np.float64,\n",
    "                 'skyl3':np.float64,\n",
    "                 'skyl4':np.float64,\n",
    "                 'wxcodes':'category',\n",
    "                 'station_timezone':'category'}"
   ]
  },
  {
   "cell_type": "code",
   "execution_count": 27,
   "metadata": {
    "collapsed": true
   },
   "outputs": [],
   "source": [
    "# load the data -- should take about 1 minute\n",
    "df = pd.read_csv(filepath_in,\n",
    "                 parse_dates=ts_cols_in,\n",
    "                 dtype=dict_dtype_in,\n",
    "                 low_memory=False)"
   ]
  },
  {
   "cell_type": "markdown",
   "metadata": {},
   "source": [
    "### Filter the Merged Data\n",
    "Filter out all data points associated with positive values for the reported delay categories.  Focus on the relationships between departure delays and weather variables."
   ]
  },
  {
   "cell_type": "code",
   "execution_count": 28,
   "metadata": {
    "collapsed": true
   },
   "outputs": [],
   "source": [
    "# filter the dataframe to compare delays with weather variables\n",
    "df_corr = df[((df.CARRIER_DELAY == 0) | df.CARRIER_DELAY.isnull())\n",
    "        & ((df.WEATHER_DELAY == 0) | df.WEATHER_DELAY.isnull())\n",
    "        & ((df.NAS_DELAY == 0) | df.NAS_DELAY.isnull())\n",
    "        & ((df.SECURITY_DELAY == 0) | df.SECURITY_DELAY.isnull())\n",
    "        & ((df.LATE_AIRCRAFT_DELAY == 0) | df.LATE_AIRCRAFT_DELAY.isnull())]"
   ]
  },
  {
   "cell_type": "markdown",
   "metadata": {},
   "source": [
    "### Correlation Matrix"
   ]
  },
  {
   "cell_type": "code",
   "execution_count": 29,
   "metadata": {},
   "outputs": [
    {
     "data": {
      "text/html": [
       "<div>\n",
       "<table border=\"1\" class=\"dataframe\">\n",
       "  <thead>\n",
       "    <tr style=\"text-align: right;\">\n",
       "      <th></th>\n",
       "      <th>DEP_DELAY</th>\n",
       "      <th>tmpf</th>\n",
       "      <th>dwpf</th>\n",
       "      <th>relh</th>\n",
       "      <th>sknt</th>\n",
       "      <th>p01i</th>\n",
       "      <th>alti</th>\n",
       "      <th>mslp</th>\n",
       "      <th>vsby</th>\n",
       "      <th>gust</th>\n",
       "      <th>skyl1</th>\n",
       "      <th>skyl2</th>\n",
       "      <th>skyl3</th>\n",
       "      <th>skyl4</th>\n",
       "    </tr>\n",
       "  </thead>\n",
       "  <tbody>\n",
       "    <tr>\n",
       "      <th>DEP_DELAY</th>\n",
       "      <td>1.000000</td>\n",
       "      <td>0.025411</td>\n",
       "      <td>0.009435</td>\n",
       "      <td>-0.011335</td>\n",
       "      <td>0.031195</td>\n",
       "      <td>0.032427</td>\n",
       "      <td>-0.019235</td>\n",
       "      <td>-0.016698</td>\n",
       "      <td>-0.025909</td>\n",
       "      <td>0.013958</td>\n",
       "      <td>-0.035815</td>\n",
       "      <td>-0.027502</td>\n",
       "      <td>-0.032507</td>\n",
       "      <td>-0.035256</td>\n",
       "    </tr>\n",
       "    <tr>\n",
       "      <th>tmpf</th>\n",
       "      <td>0.025411</td>\n",
       "      <td>1.000000</td>\n",
       "      <td>0.610843</td>\n",
       "      <td>-0.306688</td>\n",
       "      <td>-0.031026</td>\n",
       "      <td>-0.028811</td>\n",
       "      <td>-0.217189</td>\n",
       "      <td>-0.334185</td>\n",
       "      <td>0.156292</td>\n",
       "      <td>-0.270423</td>\n",
       "      <td>0.023419</td>\n",
       "      <td>0.159016</td>\n",
       "      <td>0.255120</td>\n",
       "      <td>0.205754</td>\n",
       "    </tr>\n",
       "    <tr>\n",
       "      <th>dwpf</th>\n",
       "      <td>0.009435</td>\n",
       "      <td>0.610843</td>\n",
       "      <td>1.000000</td>\n",
       "      <td>0.519327</td>\n",
       "      <td>-0.071794</td>\n",
       "      <td>0.054806</td>\n",
       "      <td>-0.152110</td>\n",
       "      <td>-0.146095</td>\n",
       "      <td>-0.089932</td>\n",
       "      <td>-0.208900</td>\n",
       "      <td>-0.355735</td>\n",
       "      <td>-0.175212</td>\n",
       "      <td>-0.058894</td>\n",
       "      <td>0.074320</td>\n",
       "    </tr>\n",
       "    <tr>\n",
       "      <th>relh</th>\n",
       "      <td>-0.011335</td>\n",
       "      <td>-0.306688</td>\n",
       "      <td>0.519327</td>\n",
       "      <td>1.000000</td>\n",
       "      <td>-0.093852</td>\n",
       "      <td>0.130604</td>\n",
       "      <td>-0.016337</td>\n",
       "      <td>0.109172</td>\n",
       "      <td>-0.376263</td>\n",
       "      <td>0.022924</td>\n",
       "      <td>-0.494450</td>\n",
       "      <td>-0.467095</td>\n",
       "      <td>-0.458967</td>\n",
       "      <td>-0.210094</td>\n",
       "    </tr>\n",
       "    <tr>\n",
       "      <th>sknt</th>\n",
       "      <td>0.031195</td>\n",
       "      <td>-0.031026</td>\n",
       "      <td>-0.071794</td>\n",
       "      <td>-0.093852</td>\n",
       "      <td>1.000000</td>\n",
       "      <td>0.011117</td>\n",
       "      <td>-0.206278</td>\n",
       "      <td>-0.193519</td>\n",
       "      <td>0.060841</td>\n",
       "      <td>0.873201</td>\n",
       "      <td>-0.116230</td>\n",
       "      <td>-0.040001</td>\n",
       "      <td>-0.039992</td>\n",
       "      <td>0.027974</td>\n",
       "    </tr>\n",
       "    <tr>\n",
       "      <th>p01i</th>\n",
       "      <td>0.032427</td>\n",
       "      <td>-0.028811</td>\n",
       "      <td>0.054806</td>\n",
       "      <td>0.130604</td>\n",
       "      <td>0.011117</td>\n",
       "      <td>1.000000</td>\n",
       "      <td>-0.059077</td>\n",
       "      <td>-0.043095</td>\n",
       "      <td>-0.225505</td>\n",
       "      <td>0.036985</td>\n",
       "      <td>-0.081105</td>\n",
       "      <td>-0.126955</td>\n",
       "      <td>-0.167406</td>\n",
       "      <td>-0.068690</td>\n",
       "    </tr>\n",
       "    <tr>\n",
       "      <th>alti</th>\n",
       "      <td>-0.019235</td>\n",
       "      <td>-0.217189</td>\n",
       "      <td>-0.152110</td>\n",
       "      <td>-0.016337</td>\n",
       "      <td>-0.206278</td>\n",
       "      <td>-0.059077</td>\n",
       "      <td>1.000000</td>\n",
       "      <td>0.956807</td>\n",
       "      <td>0.075068</td>\n",
       "      <td>-0.246851</td>\n",
       "      <td>0.136712</td>\n",
       "      <td>0.107360</td>\n",
       "      <td>0.128678</td>\n",
       "      <td>0.077825</td>\n",
       "    </tr>\n",
       "    <tr>\n",
       "      <th>mslp</th>\n",
       "      <td>-0.016698</td>\n",
       "      <td>-0.334185</td>\n",
       "      <td>-0.146095</td>\n",
       "      <td>0.109172</td>\n",
       "      <td>-0.193519</td>\n",
       "      <td>-0.043095</td>\n",
       "      <td>0.956807</td>\n",
       "      <td>1.000000</td>\n",
       "      <td>0.033225</td>\n",
       "      <td>-0.221216</td>\n",
       "      <td>0.089610</td>\n",
       "      <td>0.047948</td>\n",
       "      <td>0.057240</td>\n",
       "      <td>0.086367</td>\n",
       "    </tr>\n",
       "    <tr>\n",
       "      <th>vsby</th>\n",
       "      <td>-0.025909</td>\n",
       "      <td>0.156292</td>\n",
       "      <td>-0.089932</td>\n",
       "      <td>-0.376263</td>\n",
       "      <td>0.060841</td>\n",
       "      <td>-0.225505</td>\n",
       "      <td>0.075068</td>\n",
       "      <td>0.033225</td>\n",
       "      <td>1.000000</td>\n",
       "      <td>-0.064919</td>\n",
       "      <td>0.248260</td>\n",
       "      <td>0.289337</td>\n",
       "      <td>0.341781</td>\n",
       "      <td>0.200392</td>\n",
       "    </tr>\n",
       "    <tr>\n",
       "      <th>gust</th>\n",
       "      <td>0.013958</td>\n",
       "      <td>-0.270423</td>\n",
       "      <td>-0.208900</td>\n",
       "      <td>0.022924</td>\n",
       "      <td>0.873201</td>\n",
       "      <td>0.036985</td>\n",
       "      <td>-0.246851</td>\n",
       "      <td>-0.221216</td>\n",
       "      <td>-0.064919</td>\n",
       "      <td>1.000000</td>\n",
       "      <td>-0.049186</td>\n",
       "      <td>-0.069560</td>\n",
       "      <td>-0.094663</td>\n",
       "      <td>-0.141294</td>\n",
       "    </tr>\n",
       "    <tr>\n",
       "      <th>skyl1</th>\n",
       "      <td>-0.035815</td>\n",
       "      <td>0.023419</td>\n",
       "      <td>-0.355735</td>\n",
       "      <td>-0.494450</td>\n",
       "      <td>-0.116230</td>\n",
       "      <td>-0.081105</td>\n",
       "      <td>0.136712</td>\n",
       "      <td>0.089610</td>\n",
       "      <td>0.248260</td>\n",
       "      <td>-0.049186</td>\n",
       "      <td>1.000000</td>\n",
       "      <td>0.619168</td>\n",
       "      <td>0.502898</td>\n",
       "      <td>0.233692</td>\n",
       "    </tr>\n",
       "    <tr>\n",
       "      <th>skyl2</th>\n",
       "      <td>-0.027502</td>\n",
       "      <td>0.159016</td>\n",
       "      <td>-0.175212</td>\n",
       "      <td>-0.467095</td>\n",
       "      <td>-0.040001</td>\n",
       "      <td>-0.126955</td>\n",
       "      <td>0.107360</td>\n",
       "      <td>0.047948</td>\n",
       "      <td>0.289337</td>\n",
       "      <td>-0.069560</td>\n",
       "      <td>0.619168</td>\n",
       "      <td>1.000000</td>\n",
       "      <td>0.727786</td>\n",
       "      <td>0.341131</td>\n",
       "    </tr>\n",
       "    <tr>\n",
       "      <th>skyl3</th>\n",
       "      <td>-0.032507</td>\n",
       "      <td>0.255120</td>\n",
       "      <td>-0.058894</td>\n",
       "      <td>-0.458967</td>\n",
       "      <td>-0.039992</td>\n",
       "      <td>-0.167406</td>\n",
       "      <td>0.128678</td>\n",
       "      <td>0.057240</td>\n",
       "      <td>0.341781</td>\n",
       "      <td>-0.094663</td>\n",
       "      <td>0.502898</td>\n",
       "      <td>0.727786</td>\n",
       "      <td>1.000000</td>\n",
       "      <td>0.497129</td>\n",
       "    </tr>\n",
       "    <tr>\n",
       "      <th>skyl4</th>\n",
       "      <td>-0.035256</td>\n",
       "      <td>0.205754</td>\n",
       "      <td>0.074320</td>\n",
       "      <td>-0.210094</td>\n",
       "      <td>0.027974</td>\n",
       "      <td>-0.068690</td>\n",
       "      <td>0.077825</td>\n",
       "      <td>0.086367</td>\n",
       "      <td>0.200392</td>\n",
       "      <td>-0.141294</td>\n",
       "      <td>0.233692</td>\n",
       "      <td>0.341131</td>\n",
       "      <td>0.497129</td>\n",
       "      <td>1.000000</td>\n",
       "    </tr>\n",
       "  </tbody>\n",
       "</table>\n",
       "</div>"
      ],
      "text/plain": [
       "           DEP_DELAY      tmpf      dwpf      relh      sknt      p01i  \\\n",
       "DEP_DELAY   1.000000  0.025411  0.009435 -0.011335  0.031195  0.032427   \n",
       "tmpf        0.025411  1.000000  0.610843 -0.306688 -0.031026 -0.028811   \n",
       "dwpf        0.009435  0.610843  1.000000  0.519327 -0.071794  0.054806   \n",
       "relh       -0.011335 -0.306688  0.519327  1.000000 -0.093852  0.130604   \n",
       "sknt        0.031195 -0.031026 -0.071794 -0.093852  1.000000  0.011117   \n",
       "p01i        0.032427 -0.028811  0.054806  0.130604  0.011117  1.000000   \n",
       "alti       -0.019235 -0.217189 -0.152110 -0.016337 -0.206278 -0.059077   \n",
       "mslp       -0.016698 -0.334185 -0.146095  0.109172 -0.193519 -0.043095   \n",
       "vsby       -0.025909  0.156292 -0.089932 -0.376263  0.060841 -0.225505   \n",
       "gust        0.013958 -0.270423 -0.208900  0.022924  0.873201  0.036985   \n",
       "skyl1      -0.035815  0.023419 -0.355735 -0.494450 -0.116230 -0.081105   \n",
       "skyl2      -0.027502  0.159016 -0.175212 -0.467095 -0.040001 -0.126955   \n",
       "skyl3      -0.032507  0.255120 -0.058894 -0.458967 -0.039992 -0.167406   \n",
       "skyl4      -0.035256  0.205754  0.074320 -0.210094  0.027974 -0.068690   \n",
       "\n",
       "               alti      mslp      vsby      gust     skyl1     skyl2  \\\n",
       "DEP_DELAY -0.019235 -0.016698 -0.025909  0.013958 -0.035815 -0.027502   \n",
       "tmpf      -0.217189 -0.334185  0.156292 -0.270423  0.023419  0.159016   \n",
       "dwpf      -0.152110 -0.146095 -0.089932 -0.208900 -0.355735 -0.175212   \n",
       "relh      -0.016337  0.109172 -0.376263  0.022924 -0.494450 -0.467095   \n",
       "sknt      -0.206278 -0.193519  0.060841  0.873201 -0.116230 -0.040001   \n",
       "p01i      -0.059077 -0.043095 -0.225505  0.036985 -0.081105 -0.126955   \n",
       "alti       1.000000  0.956807  0.075068 -0.246851  0.136712  0.107360   \n",
       "mslp       0.956807  1.000000  0.033225 -0.221216  0.089610  0.047948   \n",
       "vsby       0.075068  0.033225  1.000000 -0.064919  0.248260  0.289337   \n",
       "gust      -0.246851 -0.221216 -0.064919  1.000000 -0.049186 -0.069560   \n",
       "skyl1      0.136712  0.089610  0.248260 -0.049186  1.000000  0.619168   \n",
       "skyl2      0.107360  0.047948  0.289337 -0.069560  0.619168  1.000000   \n",
       "skyl3      0.128678  0.057240  0.341781 -0.094663  0.502898  0.727786   \n",
       "skyl4      0.077825  0.086367  0.200392 -0.141294  0.233692  0.341131   \n",
       "\n",
       "              skyl3     skyl4  \n",
       "DEP_DELAY -0.032507 -0.035256  \n",
       "tmpf       0.255120  0.205754  \n",
       "dwpf      -0.058894  0.074320  \n",
       "relh      -0.458967 -0.210094  \n",
       "sknt      -0.039992  0.027974  \n",
       "p01i      -0.167406 -0.068690  \n",
       "alti       0.128678  0.077825  \n",
       "mslp       0.057240  0.086367  \n",
       "vsby       0.341781  0.200392  \n",
       "gust      -0.094663 -0.141294  \n",
       "skyl1      0.502898  0.233692  \n",
       "skyl2      0.727786  0.341131  \n",
       "skyl3      1.000000  0.497129  \n",
       "skyl4      0.497129  1.000000  "
      ]
     },
     "execution_count": 29,
     "metadata": {},
     "output_type": "execute_result"
    }
   ],
   "source": [
    "# list of numeric weather variable column labels\n",
    "numeric_weather_cols = ['tmpf',\n",
    "                        'dwpf',\n",
    "                        'relh',\n",
    "                       # 'drct',   excluding wind direction because runway directions vary\n",
    "                        'sknt',\n",
    "                        'p01i',\n",
    "                        'alti',\n",
    "                        'mslp',\n",
    "                        'vsby',\n",
    "                        'gust',\n",
    "                        'skyl1',\n",
    "                        'skyl2',\n",
    "                        'skyl3',\n",
    "                        'skyl4']\n",
    "\n",
    "corr_delay_weather = df_corr[['DEP_DELAY'] + numeric_weather_cols].corr()\n",
    "corr_delay_weather"
   ]
  },
  {
   "cell_type": "markdown",
   "metadata": {},
   "source": [
    "It is possible to test the significance of the Pearson correlation coefficients between departure delays and each weather variable using t-tests.  This approach is not entirely appropriate, because the weather variables are predictors of departure delays. It is more appropriate to use regression models and Analysis of Variance (ANOVA). The analysis of the relationship between weather variables and departure delays is beyond the scope of the EDA.  The final analysis will include regression models and F-tests.   \n",
    "\n",
    "The following tasks may be completed after the Machine Learning Unit:\n",
    "1. Perform a multiple regression.  Model departure delay as a function of several weather variables.\n",
    "2. Perform a linear regression between departure delays and each individual weather variable sequentially.  In each case, the other weather variables will be held fixed under certain conditions in order to best isolate the variation in delays with respect to the chosen weather variable.  "
   ]
  }
 ],
 "metadata": {
  "anaconda-cloud": {},
  "kernelspec": {
   "display_name": "Python [conda env:py34]",
   "language": "python",
   "name": "conda-env-py34-py"
  },
  "language_info": {
   "codemirror_mode": {
    "name": "ipython",
    "version": 3
   },
   "file_extension": ".py",
   "mimetype": "text/x-python",
   "name": "python",
   "nbconvert_exporter": "python",
   "pygments_lexer": "ipython3",
   "version": "3.4.5"
  }
 },
 "nbformat": 4,
 "nbformat_minor": 2
}
