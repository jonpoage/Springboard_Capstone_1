{
 "cells": [
  {
   "cell_type": "markdown",
   "metadata": {},
   "source": [
    "# Configure Settings"
   ]
  },
  {
   "cell_type": "code",
   "execution_count": 1,
   "metadata": {
    "collapsed": true
   },
   "outputs": [],
   "source": [
    "# import all packages\n",
    "import numpy as np\n",
    "import pandas as pd\n",
    "import matplotlib.pyplot as plt\n",
    "import seaborn as sns\n",
    "import datetime as dt\n",
    "import pytz\n",
    "import collections\n",
    "from scipy import stats"
   ]
  },
  {
   "cell_type": "code",
   "execution_count": 2,
   "metadata": {
    "collapsed": true
   },
   "outputs": [],
   "source": [
    "# configure DataFrame display settings\n",
    "pd.options.display.max_columns = None"
   ]
  },
  {
   "cell_type": "code",
   "execution_count": 3,
   "metadata": {
    "collapsed": true
   },
   "outputs": [],
   "source": [
    "# configure seaborn settings\n",
    "sns.set(style='whitegrid', font_scale=1.4)"
   ]
  },
  {
   "cell_type": "code",
   "execution_count": 4,
   "metadata": {
    "collapsed": true
   },
   "outputs": [],
   "source": [
    "# seed the pseudorandom number generator\n",
    "np.random.seed(42)"
   ]
  },
  {
   "cell_type": "markdown",
   "metadata": {},
   "source": [
    "# Load the Pre-processed Data"
   ]
  },
  {
   "cell_type": "markdown",
   "metadata": {},
   "source": [
    "The pre-processed data file is too large to store on github.  The file is created, stored, and loaded locally on my machine during my analysis.  \n",
    "\n",
    "Anyone else using this code should download a copy of the data file from my google drive.  A backup copy of the pre-processed data file (version uploaded on 1/21/2019), as well as copies of the input weather and flight data files, can be downloaded here: https://drive.google.com/open?id=1PkbeFC4E2Vea67YqzfooeZacI9eKd9-P  \n",
    "Note that, after downloading the pre-processed data file, the filepath should be updated in the code below."
   ]
  },
  {
   "cell_type": "code",
   "execution_count": 5,
   "metadata": {
    "collapsed": true
   },
   "outputs": [],
   "source": [
    "# set the input directory\n",
    "dir_in = 'C:/Users/Jonathon.Poage/Desktop/Springboard/Capstone_Documentation/Project_1/Data_Files/preprocessed_data/'\n",
    "\n",
    "# set the input filepath\n",
    "filename_in = 'merged_flight_weather_data_preprocessed.csv'\n",
    "filepath_in = dir_in + filename_in"
   ]
  },
  {
   "cell_type": "code",
   "execution_count": 6,
   "metadata": {
    "collapsed": true
   },
   "outputs": [],
   "source": [
    "# columns to parse as dates\n",
    "ts_cols_in = ['crs_dep_ts',\n",
    "              'dep_ts',\n",
    "              'wheels_off_ts',\n",
    "              'valid']\n",
    "\n",
    "# set dtype for each column\n",
    "dict_dtype_in = {'QUARTER':np.int8,\n",
    "                 'OP_UNIQUE_CARRIER':'category',\n",
    "                 'OP_CARRIER_FL_NUM':np.int16,\n",
    "                 'ORIGIN':'category',\n",
    "                 'DEST':'category',\n",
    "                 'DEP_TIME_BLK':'category',\n",
    "                 'origin_timezone':'category',\n",
    "                 'station':'category',\n",
    "                 'skyc1':'category',\n",
    "                 'skyc2':'category',\n",
    "                 'skyc3':'category',\n",
    "                 'skyc4':'category',\n",
    "                 'skyl1':np.float64,\n",
    "                 'skyl2':np.float64,\n",
    "                 'skyl3':np.float64,\n",
    "                 'skyl4':np.float64,\n",
    "                 'wxcodes':'category',\n",
    "                 'station_timezone':'category'}"
   ]
  },
  {
   "cell_type": "code",
   "execution_count": 7,
   "metadata": {
    "collapsed": true
   },
   "outputs": [],
   "source": [
    "# load the data -- should take about 1 minute\n",
    "df = pd.read_csv(filepath_in,\n",
    "                 parse_dates=ts_cols_in,\n",
    "                 dtype=dict_dtype_in,\n",
    "                 low_memory=False)"
   ]
  },
  {
   "cell_type": "markdown",
   "metadata": {},
   "source": [
    "# Exploratory Data Analysis (EDA)"
   ]
  },
  {
   "cell_type": "markdown",
   "metadata": {},
   "source": [
    "## Mean Departure Delay\n",
    "\n",
    "This section tests whether the mean departure delay is different from 0 minutes."
   ]
  },
  {
   "cell_type": "code",
   "execution_count": 8,
   "metadata": {
    "collapsed": true
   },
   "outputs": [],
   "source": [
    "# sample mean and standard deviation\n",
    "mean_d = np.mean(df.DEP_DELAY)\n",
    "sample_std_d = np.std(df.DEP_DELAY, ddof=1)\n",
    "\n",
    "# estimate the standard error of the mean\n",
    "se_mean_d = sample_std_d / np.sqrt(df.DEP_DELAY.count())"
   ]
  },
  {
   "cell_type": "code",
   "execution_count": 9,
   "metadata": {},
   "outputs": [
    {
     "name": "stdout",
     "output_type": "stream",
     "text": [
      "mean = 10.5476638682\n",
      "Standard Error = 0.0224576923933\n",
      "p-value = 0.0\n"
     ]
    }
   ],
   "source": [
    "# p-value for the sample mean\n",
    "p_value = stats.norm.sf(mean_d, loc=0, scale=se_mean_d)\n",
    "\n",
    "print('mean =', mean_d)\n",
    "print('Standard Error =', se_mean_d)\n",
    "print('p-value =', p_value)"
   ]
  },
  {
   "cell_type": "markdown",
   "metadata": {},
   "source": [
    "## Departure Delays Between Airports and Airlines"
   ]
  },
  {
   "cell_type": "markdown",
   "metadata": {},
   "source": [
    "### $\\chi^2$ Tests of Independence -- Contingency Tables\n",
    "\n",
    "This section tests whether there is an association between the airports and the departure delays.  It also tests whether there is an association between the airline carriers and the departure delays. In each case, proportionate stratified random samples are drawn from the pre-processed dataset.  "
   ]
  },
  {
   "cell_type": "code",
   "execution_count": 10,
   "metadata": {
    "collapsed": true
   },
   "outputs": [],
   "source": [
    "# define the octile bins\n",
    "octile_bins = [df.DEP_DELAY.quantile(i/8) for i in range(9)]\n",
    "    \n",
    "# initialize empty lists of index arrays\n",
    "rs_inds_airports_list = []\n",
    "rs_inds_airlines_list = []\n",
    "\n",
    "# loop over airport codes\n",
    "for a in df.ORIGIN.unique():\n",
    "    df_d = df.DEP_DELAY[df.ORIGIN == a]\n",
    "    inds = np.random.choice(df_d.index, size=int(df_d.count() / 11), replace=False)\n",
    "    rs_inds_airports_list.append(inds)\n",
    "    \n",
    "# loop over airline carrier codes\n",
    "for a in df.OP_UNIQUE_CARRIER.unique():\n",
    "    df_d = df.DEP_DELAY[df.OP_UNIQUE_CARRIER == a]\n",
    "    inds = np.random.choice(df_d.index, size=int(df_d.count() / 11), replace=False)\n",
    "    rs_inds_airlines_list.append(inds)\n",
    "    \n",
    "# concatenate the arrays of indices\n",
    "rs_inds_airports = np.concatenate(rs_inds_airports_list)\n",
    "rs_inds_airlines = np.concatenate(rs_inds_airlines_list)\n",
    "    \n",
    "# make dataframes with the random samples\n",
    "df_ap = df.loc[rs_inds_airports]\n",
    "df_al = df.loc[rs_inds_airlines]\n",
    "    \n",
    "# bin the delays\n",
    "df_ap['delay_bin'] = pd.cut(df_ap.DEP_DELAY, bins=octile_bins, include_lowest=True)\n",
    "df_al['delay_bin'] = pd.cut(df_al.DEP_DELAY, bins=octile_bins, include_lowest=True)\n",
    "\n",
    "# create the contingency tables for airports and airline carriers\n",
    "df_ct_airports = df_ap.DEP_DELAY.groupby([df_ap.ORIGIN, df_ap.delay_bin]).count().sort_index().unstack()\n",
    "df_ct_airlines = df_al.DEP_DELAY.groupby([df_al.OP_UNIQUE_CARRIER, df_al.delay_bin]).count().sort_index().unstack()"
   ]
  },
  {
   "cell_type": "code",
   "execution_count": 11,
   "metadata": {},
   "outputs": [
    {
     "name": "stdout",
     "output_type": "stream",
     "text": [
      "Airports: chi^2 = 11674.42   p-value = 0.000000\n",
      "Airlines: chi^2 = 24764.96   p-value = 0.000000\n"
     ]
    }
   ],
   "source": [
    "# evaluate the chi-square statistics and p-values\n",
    "chi2_airports, p_airports, dof_airports, e_airports = stats.chi2_contingency(df_ct_airports)\n",
    "chi2_airlines, p_airlines, dof_airlines, e_airlines = stats.chi2_contingency(df_ct_airlines)\n",
    "\n",
    "# print the results\n",
    "print('Airports: chi^2 = %.2f   p-value = %f' % (chi2_airports, p_airports))\n",
    "print('Airlines: chi^2 = %.2f   p-value = %f' % (chi2_airlines, p_airlines))"
   ]
  },
  {
   "cell_type": "markdown",
   "metadata": {},
   "source": [
    "### $\\chi^2$ Goodness of Fit Tests\n",
    "\n",
    "A chi-square goodness of fit test is performed for each stratified random sample, to determine whether each distribution of delays has a similar shape to the total distribution of delays. "
   ]
  },
  {
   "cell_type": "code",
   "execution_count": 12,
   "metadata": {},
   "outputs": [
    {
     "name": "stdout",
     "output_type": "stream",
     "text": [
      "Airport Results\n",
      "\n",
      "ATL |  chi^2 =  6912.99 |  p-value = 0.000000\n",
      "LAX |  chi^2 =   819.44 |  p-value = 0.000000\n",
      "ORD |  chi^2 =   254.56 |  p-value = 0.000000\n",
      "DFW |  chi^2 =   727.63 |  p-value = 0.000000\n",
      "JFK |  chi^2 =   656.79 |  p-value = 0.000000\n",
      "DEN |  chi^2 =   141.43 |  p-value = 0.000000\n",
      "SFO |  chi^2 =   455.53 |  p-value = 0.000000\n",
      "LAS |  chi^2 =   282.08 |  p-value = 0.000000\n",
      "SEA |  chi^2 =  1175.37 |  p-value = 0.000000\n",
      "MIA |  chi^2 =   256.41 |  p-value = 0.000000\n",
      "\n",
      "Airline Carrier Results\n",
      "\n",
      "NK |  chi^2 =  2441.47 |  p-value = 0.000000\n",
      "F9 |  chi^2 =  1472.96 |  p-value = 0.000000\n",
      "DL |  chi^2 =  6123.10 |  p-value = 0.000000\n",
      "AA |  chi^2 =  1292.19 |  p-value = 0.000000\n",
      "UA |  chi^2 =  1029.71 |  p-value = 0.000000\n",
      "AS |  chi^2 =  4204.05 |  p-value = 0.000000\n",
      "WN |  chi^2 =  6739.38 |  p-value = 0.000000\n",
      "B6 |  chi^2 =  1477.07 |  p-value = 0.000000\n"
     ]
    }
   ],
   "source": [
    "# bin the departure delays into intervals\n",
    "delay_bins = pd.cut(df.DEP_DELAY, bins=octile_bins, include_lowest=True)\n",
    "\n",
    "# find the relative frequency of delays in each bin\n",
    "rel_freq_delays = df.DEP_DELAY.groupby(delay_bins).count().sort_index() / df.DEP_DELAY.count()\n",
    "\n",
    "# loop over airport codes\n",
    "print('Airport Results\\n')\n",
    "for a in df.ORIGIN.unique():\n",
    "    obs = df_ct_airports.loc[a]\n",
    "    exp = rel_freq_delays * np.sum(obs)\n",
    "    chi2, p = stats.chisquare(obs, exp)\n",
    "    print('%s |  chi^2 = %8.2f |  p-value = %f' % (a, chi2, p))\n",
    "    \n",
    "# loop over airline carrier codes\n",
    "print('\\nAirline Carrier Results\\n')\n",
    "for a in df.OP_UNIQUE_CARRIER.unique():\n",
    "    obs = df_ct_airlines.loc[a]\n",
    "    exp = rel_freq_delays * np.sum(obs)\n",
    "    chi2, p = stats.chisquare(obs, exp)\n",
    "    print('%s |  chi^2 = %8.2f |  p-value = %f' % (a, chi2, p))"
   ]
  },
  {
   "cell_type": "markdown",
   "metadata": {},
   "source": [
    "### Confidence Intervals of the Means\n",
    "\n",
    "This section evaluates the 95 % Confidence Intervals for the Mean departure delays.  The confidence intervals are given for the stratified random samples from the previous sections.  "
   ]
  },
  {
   "cell_type": "code",
   "execution_count": 13,
   "metadata": {
    "collapsed": true
   },
   "outputs": [],
   "source": [
    "# function to get the Confidence Interval of the mean\n",
    "def get_CI(sample, alpha=0.95, dof=1):\n",
    "    \"\"\" This function takes a series as input.\n",
    "    It also optionally takes a significance level\n",
    "    and degrees of freedom as input.\n",
    "    It assumes the input series has no missing values.\n",
    "    This function returns a tuple with the \n",
    "    bounds of the confidence interval.\"\"\"\n",
    "    \n",
    "    # find the mean and SE of the mean\n",
    "    mean = np.mean(sample)\n",
    "    SE = np.std(sample, ddof=dof) / np.sqrt(len(sample))\n",
    "    \n",
    "    # get the confidence interval\n",
    "    CI = stats.norm.interval(alpha, loc=mean, scale=SE)\n",
    "    return CI"
   ]
  },
  {
   "cell_type": "code",
   "execution_count": 14,
   "metadata": {
    "collapsed": true
   },
   "outputs": [],
   "source": [
    "# get the CIs for airports\n",
    "df_CI_airports = df_ap.DEP_DELAY.groupby(df_ap.ORIGIN).agg(get_CI).reset_index()\n",
    "df_CI_airports.columns = ['Airport','CI']\n",
    "\n",
    "# get the sample means and margins of error for airports\n",
    "df_CI_airports['Sample_Mean'] = df_CI_airports.CI.apply(np.mean)\n",
    "df_CI_airports['Margin_of_Error'] = df_CI_airports.CI.apply(lambda x: (x[1] - x[0]) / 2)\n",
    "\n",
    "# get the CIs for airlines\n",
    "df_CI_airlines = df_al.DEP_DELAY.groupby(df_al.OP_UNIQUE_CARRIER).agg(get_CI).reset_index()\n",
    "df_CI_airlines.columns = ['Airline','CI']\n",
    "\n",
    "# get the sample means and margins of error for airlines\n",
    "df_CI_airlines['Sample_Mean'] = df_CI_airlines.CI.apply(np.mean)\n",
    "df_CI_airlines['Margin_of_Error'] = df_CI_airlines.CI.apply(lambda x: (x[1] - x[0]) / 2)"
   ]
  },
  {
   "cell_type": "code",
   "execution_count": 15,
   "metadata": {
    "collapsed": true
   },
   "outputs": [],
   "source": [
    "# sort by sample means\n",
    "df_CI_airports = df_CI_airports.sort_values('Sample_Mean').reset_index(drop=True)\n",
    "df_CI_airlines = df_CI_airlines.sort_values('Sample_Mean').reset_index(drop=True)"
   ]
  },
  {
   "cell_type": "code",
   "execution_count": 16,
   "metadata": {},
   "outputs": [
    {
     "data": {
      "image/png": "[encoded data removed]",
      "text/plain": [
       "<matplotlib.figure.Figure at 0x9b535f8>"
      ]
     },
     "metadata": {},
     "output_type": "display_data"
    },
    {
     "data": {
      "image/png": "[encoded data removed]",
      "text/plain": [
       "<matplotlib.figure.Figure at 0x2fdbe208>"
      ]
     },
     "metadata": {},
     "output_type": "display_data"
    }
   ],
   "source": [
    "# plot the CIs for airports\n",
    "plt.errorbar(x=df_CI_airports.Sample_Mean, y=df_CI_airports.index, xerr=df_CI_airports.Margin_of_Error, marker='.', linestyle='none')\n",
    "plt.yticks(df_CI_airports.index, df_CI_airports.Airport)\n",
    "plt.xlabel('Departure Delay (Minutes)')\n",
    "plt.ylabel('Airport Code')\n",
    "plt.title('95 % Confidence Intervals of the Mean Departure Delay \\n by Airport')\n",
    "plt.show()\n",
    "\n",
    "# plot the CIs for airlines\n",
    "plt.errorbar(x=df_CI_airlines.Sample_Mean, y=df_CI_airlines.index, xerr=df_CI_airlines.Margin_of_Error, marker='.', linestyle='none')\n",
    "plt.yticks(df_CI_airlines.index, df_CI_airlines.Airline)\n",
    "plt.xlabel('Departure Delay (Minutes)')\n",
    "plt.ylabel('Airline Carrier Code')\n",
    "plt.title('95 % Confidence Intervals of the Mean Departure Delay \\n by Airline Carrier')\n",
    "plt.show()"
   ]
  },
  {
   "cell_type": "markdown",
   "metadata": {},
   "source": [
    "## Departure Delays vs Weather Variables\n",
    "\n",
    "This section evaluates the Pearson correlation coefficients between departure delays and various weather variables.  "
   ]
  },
  {
   "cell_type": "code",
   "execution_count": 17,
   "metadata": {
    "collapsed": true
   },
   "outputs": [],
   "source": [
    "# filter the dataframe to compare delays with weather variables\n",
    "df_w = df[((df.CARRIER_DELAY == 0) | df.CARRIER_DELAY.isnull())\n",
    "        & ((df.WEATHER_DELAY == 0) | df.WEATHER_DELAY.isnull())\n",
    "        & ((df.NAS_DELAY == 0) | df.NAS_DELAY.isnull())\n",
    "        & ((df.SECURITY_DELAY == 0) | df.SECURITY_DELAY.isnull())\n",
    "        & ((df.LATE_AIRCRAFT_DELAY == 0) | df.LATE_AIRCRAFT_DELAY.isnull())]"
   ]
  },
  {
   "cell_type": "code",
   "execution_count": 18,
   "metadata": {},
   "outputs": [
    {
     "data": {
      "text/html": [
       "<div>\n",
       "<table border=\"1\" class=\"dataframe\">\n",
       "  <thead>\n",
       "    <tr style=\"text-align: right;\">\n",
       "      <th></th>\n",
       "      <th>DEP_DELAY</th>\n",
       "      <th>tmpf</th>\n",
       "      <th>dwpf</th>\n",
       "      <th>relh</th>\n",
       "      <th>sknt</th>\n",
       "      <th>p01i</th>\n",
       "      <th>alti</th>\n",
       "      <th>mslp</th>\n",
       "      <th>vsby</th>\n",
       "      <th>gust</th>\n",
       "      <th>skyl1</th>\n",
       "      <th>skyl2</th>\n",
       "      <th>skyl3</th>\n",
       "      <th>skyl4</th>\n",
       "    </tr>\n",
       "  </thead>\n",
       "  <tbody>\n",
       "    <tr>\n",
       "      <th>DEP_DELAY</th>\n",
       "      <td>1.000000</td>\n",
       "      <td>0.025411</td>\n",
       "      <td>0.009435</td>\n",
       "      <td>-0.011335</td>\n",
       "      <td>0.031195</td>\n",
       "      <td>0.032427</td>\n",
       "      <td>-0.019235</td>\n",
       "      <td>-0.016698</td>\n",
       "      <td>-0.025909</td>\n",
       "      <td>0.013958</td>\n",
       "      <td>-0.035815</td>\n",
       "      <td>-0.027502</td>\n",
       "      <td>-0.032507</td>\n",
       "      <td>-0.035256</td>\n",
       "    </tr>\n",
       "    <tr>\n",
       "      <th>tmpf</th>\n",
       "      <td>0.025411</td>\n",
       "      <td>1.000000</td>\n",
       "      <td>0.610843</td>\n",
       "      <td>-0.306688</td>\n",
       "      <td>-0.031026</td>\n",
       "      <td>-0.028811</td>\n",
       "      <td>-0.217189</td>\n",
       "      <td>-0.334185</td>\n",
       "      <td>0.156292</td>\n",
       "      <td>-0.270423</td>\n",
       "      <td>0.023419</td>\n",
       "      <td>0.159016</td>\n",
       "      <td>0.255120</td>\n",
       "      <td>0.205754</td>\n",
       "    </tr>\n",
       "    <tr>\n",
       "      <th>dwpf</th>\n",
       "      <td>0.009435</td>\n",
       "      <td>0.610843</td>\n",
       "      <td>1.000000</td>\n",
       "      <td>0.519327</td>\n",
       "      <td>-0.071794</td>\n",
       "      <td>0.054806</td>\n",
       "      <td>-0.152110</td>\n",
       "      <td>-0.146095</td>\n",
       "      <td>-0.089932</td>\n",
       "      <td>-0.208900</td>\n",
       "      <td>-0.355735</td>\n",
       "      <td>-0.175212</td>\n",
       "      <td>-0.058894</td>\n",
       "      <td>0.074320</td>\n",
       "    </tr>\n",
       "    <tr>\n",
       "      <th>relh</th>\n",
       "      <td>-0.011335</td>\n",
       "      <td>-0.306688</td>\n",
       "      <td>0.519327</td>\n",
       "      <td>1.000000</td>\n",
       "      <td>-0.093852</td>\n",
       "      <td>0.130604</td>\n",
       "      <td>-0.016337</td>\n",
       "      <td>0.109172</td>\n",
       "      <td>-0.376263</td>\n",
       "      <td>0.022924</td>\n",
       "      <td>-0.494450</td>\n",
       "      <td>-0.467095</td>\n",
       "      <td>-0.458967</td>\n",
       "      <td>-0.210094</td>\n",
       "    </tr>\n",
       "    <tr>\n",
       "      <th>sknt</th>\n",
       "      <td>0.031195</td>\n",
       "      <td>-0.031026</td>\n",
       "      <td>-0.071794</td>\n",
       "      <td>-0.093852</td>\n",
       "      <td>1.000000</td>\n",
       "      <td>0.011117</td>\n",
       "      <td>-0.206278</td>\n",
       "      <td>-0.193519</td>\n",
       "      <td>0.060841</td>\n",
       "      <td>0.873201</td>\n",
       "      <td>-0.116230</td>\n",
       "      <td>-0.040001</td>\n",
       "      <td>-0.039992</td>\n",
       "      <td>0.027974</td>\n",
       "    </tr>\n",
       "    <tr>\n",
       "      <th>p01i</th>\n",
       "      <td>0.032427</td>\n",
       "      <td>-0.028811</td>\n",
       "      <td>0.054806</td>\n",
       "      <td>0.130604</td>\n",
       "      <td>0.011117</td>\n",
       "      <td>1.000000</td>\n",
       "      <td>-0.059077</td>\n",
       "      <td>-0.043095</td>\n",
       "      <td>-0.225505</td>\n",
       "      <td>0.036985</td>\n",
       "      <td>-0.081105</td>\n",
       "      <td>-0.126955</td>\n",
       "      <td>-0.167406</td>\n",
       "      <td>-0.068690</td>\n",
       "    </tr>\n",
       "    <tr>\n",
       "      <th>alti</th>\n",
       "      <td>-0.019235</td>\n",
       "      <td>-0.217189</td>\n",
       "      <td>-0.152110</td>\n",
       "      <td>-0.016337</td>\n",
       "      <td>-0.206278</td>\n",
       "      <td>-0.059077</td>\n",
       "      <td>1.000000</td>\n",
       "      <td>0.956807</td>\n",
       "      <td>0.075068</td>\n",
       "      <td>-0.246851</td>\n",
       "      <td>0.136712</td>\n",
       "      <td>0.107360</td>\n",
       "      <td>0.128678</td>\n",
       "      <td>0.077825</td>\n",
       "    </tr>\n",
       "    <tr>\n",
       "      <th>mslp</th>\n",
       "      <td>-0.016698</td>\n",
       "      <td>-0.334185</td>\n",
       "      <td>-0.146095</td>\n",
       "      <td>0.109172</td>\n",
       "      <td>-0.193519</td>\n",
       "      <td>-0.043095</td>\n",
       "      <td>0.956807</td>\n",
       "      <td>1.000000</td>\n",
       "      <td>0.033225</td>\n",
       "      <td>-0.221216</td>\n",
       "      <td>0.089610</td>\n",
       "      <td>0.047948</td>\n",
       "      <td>0.057240</td>\n",
       "      <td>0.086367</td>\n",
       "    </tr>\n",
       "    <tr>\n",
       "      <th>vsby</th>\n",
       "      <td>-0.025909</td>\n",
       "      <td>0.156292</td>\n",
       "      <td>-0.089932</td>\n",
       "      <td>-0.376263</td>\n",
       "      <td>0.060841</td>\n",
       "      <td>-0.225505</td>\n",
       "      <td>0.075068</td>\n",
       "      <td>0.033225</td>\n",
       "      <td>1.000000</td>\n",
       "      <td>-0.064919</td>\n",
       "      <td>0.248260</td>\n",
       "      <td>0.289337</td>\n",
       "      <td>0.341781</td>\n",
       "      <td>0.200392</td>\n",
       "    </tr>\n",
       "    <tr>\n",
       "      <th>gust</th>\n",
       "      <td>0.013958</td>\n",
       "      <td>-0.270423</td>\n",
       "      <td>-0.208900</td>\n",
       "      <td>0.022924</td>\n",
       "      <td>0.873201</td>\n",
       "      <td>0.036985</td>\n",
       "      <td>-0.246851</td>\n",
       "      <td>-0.221216</td>\n",
       "      <td>-0.064919</td>\n",
       "      <td>1.000000</td>\n",
       "      <td>-0.049186</td>\n",
       "      <td>-0.069560</td>\n",
       "      <td>-0.094663</td>\n",
       "      <td>-0.141294</td>\n",
       "    </tr>\n",
       "    <tr>\n",
       "      <th>skyl1</th>\n",
       "      <td>-0.035815</td>\n",
       "      <td>0.023419</td>\n",
       "      <td>-0.355735</td>\n",
       "      <td>-0.494450</td>\n",
       "      <td>-0.116230</td>\n",
       "      <td>-0.081105</td>\n",
       "      <td>0.136712</td>\n",
       "      <td>0.089610</td>\n",
       "      <td>0.248260</td>\n",
       "      <td>-0.049186</td>\n",
       "      <td>1.000000</td>\n",
       "      <td>0.619168</td>\n",
       "      <td>0.502898</td>\n",
       "      <td>0.233692</td>\n",
       "    </tr>\n",
       "    <tr>\n",
       "      <th>skyl2</th>\n",
       "      <td>-0.027502</td>\n",
       "      <td>0.159016</td>\n",
       "      <td>-0.175212</td>\n",
       "      <td>-0.467095</td>\n",
       "      <td>-0.040001</td>\n",
       "      <td>-0.126955</td>\n",
       "      <td>0.107360</td>\n",
       "      <td>0.047948</td>\n",
       "      <td>0.289337</td>\n",
       "      <td>-0.069560</td>\n",
       "      <td>0.619168</td>\n",
       "      <td>1.000000</td>\n",
       "      <td>0.727786</td>\n",
       "      <td>0.341131</td>\n",
       "    </tr>\n",
       "    <tr>\n",
       "      <th>skyl3</th>\n",
       "      <td>-0.032507</td>\n",
       "      <td>0.255120</td>\n",
       "      <td>-0.058894</td>\n",
       "      <td>-0.458967</td>\n",
       "      <td>-0.039992</td>\n",
       "      <td>-0.167406</td>\n",
       "      <td>0.128678</td>\n",
       "      <td>0.057240</td>\n",
       "      <td>0.341781</td>\n",
       "      <td>-0.094663</td>\n",
       "      <td>0.502898</td>\n",
       "      <td>0.727786</td>\n",
       "      <td>1.000000</td>\n",
       "      <td>0.497129</td>\n",
       "    </tr>\n",
       "    <tr>\n",
       "      <th>skyl4</th>\n",
       "      <td>-0.035256</td>\n",
       "      <td>0.205754</td>\n",
       "      <td>0.074320</td>\n",
       "      <td>-0.210094</td>\n",
       "      <td>0.027974</td>\n",
       "      <td>-0.068690</td>\n",
       "      <td>0.077825</td>\n",
       "      <td>0.086367</td>\n",
       "      <td>0.200392</td>\n",
       "      <td>-0.141294</td>\n",
       "      <td>0.233692</td>\n",
       "      <td>0.341131</td>\n",
       "      <td>0.497129</td>\n",
       "      <td>1.000000</td>\n",
       "    </tr>\n",
       "  </tbody>\n",
       "</table>\n",
       "</div>"
      ],
      "text/plain": [
       "           DEP_DELAY      tmpf      dwpf      relh      sknt      p01i  \\\n",
       "DEP_DELAY   1.000000  0.025411  0.009435 -0.011335  0.031195  0.032427   \n",
       "tmpf        0.025411  1.000000  0.610843 -0.306688 -0.031026 -0.028811   \n",
       "dwpf        0.009435  0.610843  1.000000  0.519327 -0.071794  0.054806   \n",
       "relh       -0.011335 -0.306688  0.519327  1.000000 -0.093852  0.130604   \n",
       "sknt        0.031195 -0.031026 -0.071794 -0.093852  1.000000  0.011117   \n",
       "p01i        0.032427 -0.028811  0.054806  0.130604  0.011117  1.000000   \n",
       "alti       -0.019235 -0.217189 -0.152110 -0.016337 -0.206278 -0.059077   \n",
       "mslp       -0.016698 -0.334185 -0.146095  0.109172 -0.193519 -0.043095   \n",
       "vsby       -0.025909  0.156292 -0.089932 -0.376263  0.060841 -0.225505   \n",
       "gust        0.013958 -0.270423 -0.208900  0.022924  0.873201  0.036985   \n",
       "skyl1      -0.035815  0.023419 -0.355735 -0.494450 -0.116230 -0.081105   \n",
       "skyl2      -0.027502  0.159016 -0.175212 -0.467095 -0.040001 -0.126955   \n",
       "skyl3      -0.032507  0.255120 -0.058894 -0.458967 -0.039992 -0.167406   \n",
       "skyl4      -0.035256  0.205754  0.074320 -0.210094  0.027974 -0.068690   \n",
       "\n",
       "               alti      mslp      vsby      gust     skyl1     skyl2  \\\n",
       "DEP_DELAY -0.019235 -0.016698 -0.025909  0.013958 -0.035815 -0.027502   \n",
       "tmpf      -0.217189 -0.334185  0.156292 -0.270423  0.023419  0.159016   \n",
       "dwpf      -0.152110 -0.146095 -0.089932 -0.208900 -0.355735 -0.175212   \n",
       "relh      -0.016337  0.109172 -0.376263  0.022924 -0.494450 -0.467095   \n",
       "sknt      -0.206278 -0.193519  0.060841  0.873201 -0.116230 -0.040001   \n",
       "p01i      -0.059077 -0.043095 -0.225505  0.036985 -0.081105 -0.126955   \n",
       "alti       1.000000  0.956807  0.075068 -0.246851  0.136712  0.107360   \n",
       "mslp       0.956807  1.000000  0.033225 -0.221216  0.089610  0.047948   \n",
       "vsby       0.075068  0.033225  1.000000 -0.064919  0.248260  0.289337   \n",
       "gust      -0.246851 -0.221216 -0.064919  1.000000 -0.049186 -0.069560   \n",
       "skyl1      0.136712  0.089610  0.248260 -0.049186  1.000000  0.619168   \n",
       "skyl2      0.107360  0.047948  0.289337 -0.069560  0.619168  1.000000   \n",
       "skyl3      0.128678  0.057240  0.341781 -0.094663  0.502898  0.727786   \n",
       "skyl4      0.077825  0.086367  0.200392 -0.141294  0.233692  0.341131   \n",
       "\n",
       "              skyl3     skyl4  \n",
       "DEP_DELAY -0.032507 -0.035256  \n",
       "tmpf       0.255120  0.205754  \n",
       "dwpf      -0.058894  0.074320  \n",
       "relh      -0.458967 -0.210094  \n",
       "sknt      -0.039992  0.027974  \n",
       "p01i      -0.167406 -0.068690  \n",
       "alti       0.128678  0.077825  \n",
       "mslp       0.057240  0.086367  \n",
       "vsby       0.341781  0.200392  \n",
       "gust      -0.094663 -0.141294  \n",
       "skyl1      0.502898  0.233692  \n",
       "skyl2      0.727786  0.341131  \n",
       "skyl3      1.000000  0.497129  \n",
       "skyl4      0.497129  1.000000  "
      ]
     },
     "execution_count": 18,
     "metadata": {},
     "output_type": "execute_result"
    }
   ],
   "source": [
    "# list of numeric weather variable column labels\n",
    "numeric_weather_cols = ['tmpf',\n",
    "                        'dwpf',\n",
    "                        'relh',\n",
    "                       # 'drct',   excluding wind direction because runway direction varies\n",
    "                        'sknt',\n",
    "                        'p01i',\n",
    "                        'alti',\n",
    "                        'mslp',\n",
    "                        'vsby',\n",
    "                        'gust',\n",
    "                        'skyl1',\n",
    "                        'skyl2',\n",
    "                        'skyl3',\n",
    "                        'skyl4']\n",
    "\n",
    "corr_delay_weather = df_w[['DEP_DELAY'] + numeric_weather_cols].corr()\n",
    "corr_delay_weather"
   ]
  },
  {
   "cell_type": "markdown",
   "metadata": {},
   "source": [
    "### Hypothesis tests"
   ]
  },
  {
   "cell_type": "markdown",
   "metadata": {},
   "source": [
    "It is possible to test the significance of the Pearson correlation coefficients between departure delays and each weather variable using t-tests.  This approach is not entirely appropriate, because the weather variables are predictors of departure delays. It is more appropriate to use regression models and Analysis of Variance (ANOVA). The analysis of the relationship between weather variables and departure delays is beyond the scope of the EDA.  The final analysis will include regression models and F-tests.   \n",
    "\n",
    "The following tasks may be completed after the Machine Learning Unit:\n",
    "1. Perform a multiple regression.  Model departure delay as a function of several weather variables.\n",
    "2. Perform a linear regression between departure delays and each individual weather variable sequentially.  In each case, the other weather variables will be held fixed under certain conditions in order to best isolate the variation in delays with respect to the chosen weather variable.  "
   ]
  }
 ],
 "metadata": {
  "anaconda-cloud": {},
  "kernelspec": {
   "display_name": "Python [conda env:py34]",
   "language": "python",
   "name": "conda-env-py34-py"
  },
  "language_info": {
   "codemirror_mode": {
    "name": "ipython",
    "version": 3
   },
   "file_extension": ".py",
   "mimetype": "text/x-python",
   "name": "python",
   "nbconvert_exporter": "python",
   "pygments_lexer": "ipython3",
   "version": "3.4.5"
  }
 },
 "nbformat": 4,
 "nbformat_minor": 2
}
